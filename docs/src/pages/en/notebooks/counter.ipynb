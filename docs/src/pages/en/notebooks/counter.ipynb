{
 "cells": [
  {
   "cell_type": "raw",
   "id": "2820e80e-e899-4ee9-a1a8-3ebc8b411a64",
   "metadata": {},
   "source": [
    "---\n",
    "title: Build a Counter Widget\n",
    "description: Jupyter notebook with example\n",
    "layout: ../../../layouts/MainLayout.astro\n",
    "---"
   ]
  },
  {
   "cell_type": "code",
   "execution_count": 1,
   "id": "c47b8145",
   "metadata": {},
   "outputs": [
    {
     "data": {
      "application/vnd.jupyter.widget-view+json": {
       "model_id": "7a6454ce013840579cb17d47def4e760",
       "version_major": 2,
       "version_minor": 0
      },
      "text/plain": [
       "CounterWidget(count=60)"
      ]
     },
     "execution_count": 1,
     "metadata": {},
     "output_type": "execute_result"
    }
   ],
   "source": [
    "from anywidget import anywidget\n",
    "import traitlets\n",
    "\n",
    "@anywidget(\n",
    "    esm=\"\"\"\n",
    "export function render(view) {\n",
    "  let counter = Object.assign(document.createElement(\"button\"), {\n",
    "    className: \"counter-btn\",\n",
    "    innerHTML: `count is ${view.model.get(\"count\")}`,\n",
    "    onclick: () => {\n",
    "      view.model.set(\"count\", view.model.get(\"count\") + 1);\n",
    "      view.model.save_changes();\n",
    "    },\n",
    "  });\n",
    "  view.model.on(\"change:count\", () => {\n",
    "    counter.innerHTML = `count is ${view.model.get(\"count\")}`;\n",
    "  });\n",
    "  view.el.appendChild(counter);\n",
    "}\n",
    "\"\"\",\n",
    "    css=\"\"\"\n",
    ".counter-btn {\n",
    "  background-image: linear-gradient(to right, #a1c4fd, #c2e9fb);\n",
    "  border: 0;\n",
    "  border-radius: 10px;\n",
    "  padding: 10px 50px;\n",
    "  color: white;\n",
    "}\n",
    "\"\"\",\n",
    ")\n",
    "class CounterWidget:\n",
    "    count = traitlets.Int(0).tag(sync=True)\n",
    "\n",
    "w = CounterWidget()\n",
    "w.count = 60\n",
    "\n",
    "w"
   ]
  },
  {
   "cell_type": "code",
   "execution_count": 2,
   "id": "1b0f1a15",
   "metadata": {},
   "outputs": [
    {
     "data": {
      "application/vnd.jupyter.widget-view+json": {
       "model_id": "7a6454ce013840579cb17d47def4e760",
       "version_major": 2,
       "version_minor": 0
      },
      "text/plain": [
       "CounterWidget(count=60)"
      ]
     },
     "execution_count": 2,
     "metadata": {},
     "output_type": "execute_result"
    }
   ],
   "source": [
    "w"
   ]
  },
  {
   "cell_type": "code",
   "execution_count": null,
   "id": "1b4c811d-082d-44a3-bc3e-b07369e36588",
   "metadata": {},
   "outputs": [],
   "source": []
  }
 ],
 "metadata": {
  "kernelspec": {
   "display_name": "Python 3 (ipykernel)",
   "language": "python",
   "name": "python3"
  },
  "language_info": {
   "codemirror_mode": {
    "name": "ipython",
    "version": 3
   },
   "file_extension": ".py",
   "mimetype": "text/x-python",
   "name": "python",
   "nbconvert_exporter": "python",
   "pygments_lexer": "ipython3",
   "version": "3.11.0"
  },
  "widgets": {
   "application/vnd.jupyter.widget-state+json": {
    "state": {
     "7a6454ce013840579cb17d47def4e760": {
      "model_module": "anywidget",
      "model_module_version": "0.0.4",
      "model_name": "AnyModel",
      "state": {
       "_anywidget_id": "__main__.CounterWidget",
       "_css": "\n.counter-btn {\n  background-image: linear-gradient(to right, #a1c4fd, #c2e9fb);\n  border: 0;\n  border-radius: 10px;\n  padding: 10px 50px;\n  color: white;\n}\n",
       "_esm": "\nexport function render(view) {\n  let counter = Object.assign(document.createElement(\"button\"), {\n    className: \"counter-btn\",\n    innerHTML: `count is ${view.model.get(\"count\")}`,\n    onclick: () => {\n      view.model.set(\"count\", view.model.get(\"count\") + 1);\n      view.model.save_changes();\n    },\n  });\n  view.model.on(\"change:count\", () => {\n    counter.innerHTML = `count is ${view.model.get(\"count\")}`;\n  });\n  view.el.appendChild(counter);\n}\n",
       "_model_module": "anywidget",
       "_model_module_version": "0.0.4",
       "_model_name": "AnyModel",
       "_view_module": "anywidget",
       "_view_module_version": "0.0.4",
       "_view_name": "AnyView",
       "count": 60,
       "layout": "IPY_MODEL_c2b3d1e37adb4604be08c33156af2534"
      }
     },
     "c2b3d1e37adb4604be08c33156af2534": {
      "model_module": "@jupyter-widgets/base",
      "model_module_version": "2.0.0",
      "model_name": "LayoutModel",
      "state": {}
     }
    },
    "version_major": 2,
    "version_minor": 0
   }
  }
 },
 "nbformat": 4,
 "nbformat_minor": 5
}
